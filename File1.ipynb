{
 "cells": [
  {
   "cell_type": "code",
   "execution_count": 70,
   "metadata": {},
   "outputs": [],
   "source": [
    "import pandas as pd\n",
    "import seaborn as sns"
   ]
  },
  {
   "cell_type": "code",
   "execution_count": 71,
   "metadata": {},
   "outputs": [],
   "source": [
    "import matplotlib.pyplot as plt"
   ]
  },
  {
   "cell_type": "code",
   "execution_count": 72,
   "metadata": {},
   "outputs": [
    {
     "name": "stdout",
     "output_type": "stream",
     "text": [
      "checkingFiles.ipynb  File1.ipynb  Sample_Submission.csv  Train.csv\r\n",
      "\u001b[0m\u001b[01;31mData.zip\u001b[0m             README.md    Test.csv               Untitled.ipynb\r\n"
     ]
    }
   ],
   "source": [
    "ls"
   ]
  },
  {
   "cell_type": "code",
   "execution_count": 73,
   "metadata": {},
   "outputs": [],
   "source": [
    "df = pd.read_csv('Train.csv')"
   ]
  },
  {
   "cell_type": "code",
   "execution_count": 74,
   "metadata": {},
   "outputs": [
    {
     "data": {
      "text/plain": [
       "(3506, 9)"
      ]
     },
     "execution_count": 74,
     "metadata": {},
     "output_type": "execute_result"
    }
   ],
   "source": [
    "df.shape"
   ]
  },
  {
   "cell_type": "code",
   "execution_count": 75,
   "metadata": {},
   "outputs": [
    {
     "data": {
      "text/plain": [
       "ID                   int64\n",
       "CONSOLE             object\n",
       "YEAR                 int64\n",
       "CATEGORY            object\n",
       "PUBLISHER           object\n",
       "RATING              object\n",
       "CRITICS_POINTS     float64\n",
       "USER_POINTS        float64\n",
       "SalesInMillions    float64\n",
       "dtype: object"
      ]
     },
     "execution_count": 75,
     "metadata": {},
     "output_type": "execute_result"
    }
   ],
   "source": [
    "df.dtypes"
   ]
  },
  {
   "cell_type": "code",
   "execution_count": 76,
   "metadata": {},
   "outputs": [
    {
     "data": {
      "text/plain": [
       "Index(['ID', 'CONSOLE', 'YEAR', 'CATEGORY', 'PUBLISHER', 'RATING',\n",
       "       'CRITICS_POINTS', 'USER_POINTS', 'SalesInMillions'],\n",
       "      dtype='object')"
      ]
     },
     "execution_count": 76,
     "metadata": {},
     "output_type": "execute_result"
    }
   ],
   "source": [
    "df.columns"
   ]
  },
  {
   "cell_type": "code",
   "execution_count": 77,
   "metadata": {},
   "outputs": [
    {
     "name": "stdout",
     "output_type": "stream",
     "text": [
      "<class 'pandas.core.frame.DataFrame'>\n",
      "RangeIndex: 3506 entries, 0 to 3505\n",
      "Data columns (total 9 columns):\n",
      " #   Column           Non-Null Count  Dtype  \n",
      "---  ------           --------------  -----  \n",
      " 0   ID               3506 non-null   int64  \n",
      " 1   CONSOLE          3506 non-null   object \n",
      " 2   YEAR             3506 non-null   int64  \n",
      " 3   CATEGORY         3506 non-null   object \n",
      " 4   PUBLISHER        3506 non-null   object \n",
      " 5   RATING           3506 non-null   object \n",
      " 6   CRITICS_POINTS   3506 non-null   float64\n",
      " 7   USER_POINTS      3506 non-null   float64\n",
      " 8   SalesInMillions  3506 non-null   float64\n",
      "dtypes: float64(3), int64(2), object(4)\n",
      "memory usage: 246.6+ KB\n"
     ]
    }
   ],
   "source": [
    "df.info()"
   ]
  },
  {
   "cell_type": "code",
   "execution_count": 78,
   "metadata": {},
   "outputs": [
    {
     "data": {
      "text/plain": [
       "ID                 0\n",
       "CONSOLE            0\n",
       "YEAR               0\n",
       "CATEGORY           0\n",
       "PUBLISHER          0\n",
       "RATING             0\n",
       "CRITICS_POINTS     0\n",
       "USER_POINTS        0\n",
       "SalesInMillions    0\n",
       "dtype: int64"
      ]
     },
     "execution_count": 78,
     "metadata": {},
     "output_type": "execute_result"
    }
   ],
   "source": [
    "df.isnull().sum()"
   ]
  },
  {
   "cell_type": "code",
   "execution_count": 79,
   "metadata": {},
   "outputs": [],
   "source": [
    "# Object Type - CATEGORY, PUBLISHER, RATING"
   ]
  },
  {
   "cell_type": "code",
   "execution_count": null,
   "metadata": {},
   "outputs": [],
   "source": []
  },
  {
   "cell_type": "code",
   "execution_count": 80,
   "metadata": {},
   "outputs": [],
   "source": [
    "var = df.corr()"
   ]
  },
  {
   "cell_type": "code",
   "execution_count": 81,
   "metadata": {},
   "outputs": [
    {
     "data": {
      "text/html": [
       "<div>\n",
       "<style scoped>\n",
       "    .dataframe tbody tr th:only-of-type {\n",
       "        vertical-align: middle;\n",
       "    }\n",
       "\n",
       "    .dataframe tbody tr th {\n",
       "        vertical-align: top;\n",
       "    }\n",
       "\n",
       "    .dataframe thead th {\n",
       "        text-align: right;\n",
       "    }\n",
       "</style>\n",
       "<table border=\"1\" class=\"dataframe\">\n",
       "  <thead>\n",
       "    <tr style=\"text-align: right;\">\n",
       "      <th></th>\n",
       "      <th>ID</th>\n",
       "      <th>YEAR</th>\n",
       "      <th>CRITICS_POINTS</th>\n",
       "      <th>USER_POINTS</th>\n",
       "      <th>SalesInMillions</th>\n",
       "    </tr>\n",
       "  </thead>\n",
       "  <tbody>\n",
       "    <tr>\n",
       "      <th>ID</th>\n",
       "      <td>1.000000</td>\n",
       "      <td>-0.053616</td>\n",
       "      <td>-0.005240</td>\n",
       "      <td>0.025612</td>\n",
       "      <td>-0.021986</td>\n",
       "    </tr>\n",
       "    <tr>\n",
       "      <th>YEAR</th>\n",
       "      <td>-0.053616</td>\n",
       "      <td>1.000000</td>\n",
       "      <td>-0.040943</td>\n",
       "      <td>-0.330024</td>\n",
       "      <td>0.015476</td>\n",
       "    </tr>\n",
       "    <tr>\n",
       "      <th>CRITICS_POINTS</th>\n",
       "      <td>-0.005240</td>\n",
       "      <td>-0.040943</td>\n",
       "      <td>1.000000</td>\n",
       "      <td>0.357396</td>\n",
       "      <td>-0.102378</td>\n",
       "    </tr>\n",
       "    <tr>\n",
       "      <th>USER_POINTS</th>\n",
       "      <td>0.025612</td>\n",
       "      <td>-0.330024</td>\n",
       "      <td>0.357396</td>\n",
       "      <td>1.000000</td>\n",
       "      <td>-0.140307</td>\n",
       "    </tr>\n",
       "    <tr>\n",
       "      <th>SalesInMillions</th>\n",
       "      <td>-0.021986</td>\n",
       "      <td>0.015476</td>\n",
       "      <td>-0.102378</td>\n",
       "      <td>-0.140307</td>\n",
       "      <td>1.000000</td>\n",
       "    </tr>\n",
       "  </tbody>\n",
       "</table>\n",
       "</div>"
      ],
      "text/plain": [
       "                       ID      YEAR  CRITICS_POINTS  USER_POINTS  \\\n",
       "ID               1.000000 -0.053616       -0.005240     0.025612   \n",
       "YEAR            -0.053616  1.000000       -0.040943    -0.330024   \n",
       "CRITICS_POINTS  -0.005240 -0.040943        1.000000     0.357396   \n",
       "USER_POINTS      0.025612 -0.330024        0.357396     1.000000   \n",
       "SalesInMillions -0.021986  0.015476       -0.102378    -0.140307   \n",
       "\n",
       "                 SalesInMillions  \n",
       "ID                     -0.021986  \n",
       "YEAR                    0.015476  \n",
       "CRITICS_POINTS         -0.102378  \n",
       "USER_POINTS            -0.140307  \n",
       "SalesInMillions         1.000000  "
      ]
     },
     "execution_count": 81,
     "metadata": {},
     "output_type": "execute_result"
    }
   ],
   "source": [
    "var"
   ]
  },
  {
   "cell_type": "code",
   "execution_count": null,
   "metadata": {},
   "outputs": [],
   "source": []
  },
  {
   "cell_type": "code",
   "execution_count": 82,
   "metadata": {},
   "outputs": [
    {
     "data": {
      "text/plain": [
       "<Figure size 2880x2880 with 0 Axes>"
      ]
     },
     "execution_count": 82,
     "metadata": {},
     "output_type": "execute_result"
    },
    {
     "data": {
      "image/png": "[encoded data removed]",
      "text/plain": [
       "<Figure size 432x288 with 2 Axes>"
      ]
     },
     "metadata": {
      "needs_background": "light"
     },
     "output_type": "display_data"
    },
    {
     "data": {
      "text/plain": [
       "<Figure size 2880x2880 with 0 Axes>"
      ]
     },
     "metadata": {},
     "output_type": "display_data"
    }
   ],
   "source": [
    "sns.heatmap(var, annot = True)\n",
    "plt.figure(figsize=(40,40))"
   ]
  },
  {
   "cell_type": "code",
   "execution_count": 83,
   "metadata": {},
   "outputs": [
    {
     "data": {
      "text/html": [
       "<div>\n",
       "<style scoped>\n",
       "    .dataframe tbody tr th:only-of-type {\n",
       "        vertical-align: middle;\n",
       "    }\n",
       "\n",
       "    .dataframe tbody tr th {\n",
       "        vertical-align: top;\n",
       "    }\n",
       "\n",
       "    .dataframe thead th {\n",
       "        text-align: right;\n",
       "    }\n",
       "</style>\n",
       "<table border=\"1\" class=\"dataframe\">\n",
       "  <thead>\n",
       "    <tr style=\"text-align: right;\">\n",
       "      <th></th>\n",
       "      <th>ID</th>\n",
       "      <th>CONSOLE</th>\n",
       "      <th>YEAR</th>\n",
       "      <th>CATEGORY</th>\n",
       "      <th>PUBLISHER</th>\n",
       "      <th>RATING</th>\n",
       "      <th>CRITICS_POINTS</th>\n",
       "      <th>USER_POINTS</th>\n",
       "      <th>SalesInMillions</th>\n",
       "    </tr>\n",
       "  </thead>\n",
       "  <tbody>\n",
       "    <tr>\n",
       "      <th>0</th>\n",
       "      <td>2860</td>\n",
       "      <td>ds</td>\n",
       "      <td>2008</td>\n",
       "      <td>role-playing</td>\n",
       "      <td>Nintendo</td>\n",
       "      <td>E</td>\n",
       "      <td>2.833333</td>\n",
       "      <td>0.303704</td>\n",
       "      <td>1.779257</td>\n",
       "    </tr>\n",
       "    <tr>\n",
       "      <th>1</th>\n",
       "      <td>731</td>\n",
       "      <td>wii</td>\n",
       "      <td>2012</td>\n",
       "      <td>simulation</td>\n",
       "      <td>Konami Digital Entertainment</td>\n",
       "      <td>E10+</td>\n",
       "      <td>13.200000</td>\n",
       "      <td>1.640000</td>\n",
       "      <td>0.215050</td>\n",
       "    </tr>\n",
       "    <tr>\n",
       "      <th>2</th>\n",
       "      <td>495</td>\n",
       "      <td>pc</td>\n",
       "      <td>2019</td>\n",
       "      <td>shooter</td>\n",
       "      <td>Activision</td>\n",
       "      <td>M</td>\n",
       "      <td>4.562500</td>\n",
       "      <td>0.006410</td>\n",
       "      <td>0.534402</td>\n",
       "    </tr>\n",
       "    <tr>\n",
       "      <th>3</th>\n",
       "      <td>2641</td>\n",
       "      <td>ps2</td>\n",
       "      <td>2002</td>\n",
       "      <td>sports</td>\n",
       "      <td>Electronic Arts</td>\n",
       "      <td>E</td>\n",
       "      <td>4.181818</td>\n",
       "      <td>0.326923</td>\n",
       "      <td>1.383964</td>\n",
       "    </tr>\n",
       "    <tr>\n",
       "      <th>4</th>\n",
       "      <td>811</td>\n",
       "      <td>ps3</td>\n",
       "      <td>2013</td>\n",
       "      <td>action</td>\n",
       "      <td>Activision</td>\n",
       "      <td>M</td>\n",
       "      <td>2.259259</td>\n",
       "      <td>0.032579</td>\n",
       "      <td>0.082671</td>\n",
       "    </tr>\n",
       "  </tbody>\n",
       "</table>\n",
       "</div>"
      ],
      "text/plain": [
       "     ID CONSOLE  YEAR      CATEGORY                     PUBLISHER RATING  \\\n",
       "0  2860      ds  2008  role-playing                      Nintendo      E   \n",
       "1   731     wii  2012    simulation  Konami Digital Entertainment   E10+   \n",
       "2   495      pc  2019       shooter                    Activision      M   \n",
       "3  2641     ps2  2002        sports               Electronic Arts      E   \n",
       "4   811     ps3  2013        action                    Activision      M   \n",
       "\n",
       "   CRITICS_POINTS  USER_POINTS  SalesInMillions  \n",
       "0        2.833333     0.303704         1.779257  \n",
       "1       13.200000     1.640000         0.215050  \n",
       "2        4.562500     0.006410         0.534402  \n",
       "3        4.181818     0.326923         1.383964  \n",
       "4        2.259259     0.032579         0.082671  "
      ]
     },
     "execution_count": 83,
     "metadata": {},
     "output_type": "execute_result"
    }
   ],
   "source": [
    "df.head()"
   ]
  },
  {
   "cell_type": "code",
   "execution_count": 25,
   "metadata": {},
   "outputs": [],
   "source": [
    "obj = ['CATEGORY', 'PUBLISHER','RATING']"
   ]
  },
  {
   "cell_type": "code",
   "execution_count": 11,
   "metadata": {},
   "outputs": [
    {
     "name": "stdout",
     "output_type": "stream",
     "text": [
      "Describing All Object Types\n",
      "************************************\n",
      "CATEGORY\n",
      "Length of Unique Elements  12\n",
      "Unique Elemts\n",
      "['role-playing' 'simulation' 'shooter' 'sports' 'action' 'platform'\n",
      " 'strategy' 'racing' 'misc' 'fighting' 'adventure' 'puzzle']\n",
      "************************************\n",
      "PUBLISHER\n",
      "Length of Unique Elements  204\n",
      "Unique Elemts\n",
      "['Nintendo' 'Konami Digital Entertainment' 'Activision' 'Electronic Arts'\n",
      " 'Sony Computer Entertainment' 'Idea Factory' 'Atari' 'Empire Interactive'\n",
      " 'Paradox Interactive' 'Lucasarts' 'Redoctane' 'Codemasters'\n",
      " 'Namco Bandai Games' 'Tecmo Koei' 'Square Enix' 'Infogrames'\n",
      " 'Microsoft Game Studios' 'Universal Interactive' 'Thq' 'Ubisoft'\n",
      " 'Take-Two Interactive' 'Disney Interactive Studios' 'Midway Games'\n",
      " 'Atlus' 'Eidos Interactive' 'Pqube' 'Sega'\n",
      " 'Warner Bros. Interactive Entertainment' 'Graffiti' 'Enix Corporation'\n",
      " 'Gt Interactive' 'Majesco Entertainment' '505 Games'\n",
      " 'Acclaim Entertainment' 'Ignition Entertainment' 'Capcom' 'Mastertronic'\n",
      " 'Dtp Entertainment' 'Play It' 'Vivendi Games' 'Sci' 'Southpeak Games'\n",
      " 'Jowood Productions' 'Black Bean Games' 'Funcom' 'Global Star'\n",
      " 'Virgin Interactive' 'Nippon Ichi Software' 'Ghostlight' 'Rebellion'\n",
      " 'Rising Star Games' 'Deep Silver' 'Harmonix Music Systems' 'Metro 3D'\n",
      " 'Valve' 'Rage Software' 'Sunsoft' 'Phantagram' 'Kalypso Media'\n",
      " 'Marvelous Interactive' 'Sony Computer Entertainment Europe'\n",
      " 'Aksys Games' '1C Company' 'Koch Media' '3Do' 'Bethesda Softworks'\n",
      " 'Crave Entertainment' 'Mtv Games' 'Dusenberry Martin Racing'\n",
      " 'Tdk Mediactive' 'Nordic Games' 'Ncsoft' 'Marvelous Entertainment'\n",
      " 'Little Orbit' 'Zoo Games' 'Popcap Games' 'Squaresoft'\n",
      " 'Bam! Entertainment' 'Yacht Club Games' 'Gamecock' 'Insomniac Games'\n",
      " 'Kemco' 'Focus Home Interactive' 'Trion Worlds' 'Takara Tomy' 'Banpresto'\n",
      " 'Zoo Digital Publishing' 'Gathering Of Developers'\n",
      " 'White Park Bay Software' 'Crimson Cow' 'D3Publisher' 'Kool Kizz'\n",
      " 'Interplay' 'Scholastic Inc.' 'Gungho' 'Hasbro Interactive'\n",
      " 'Human Entertainment' 'From Software' 'Spike' 'Success' 'Talonsoft'\n",
      " 'Gaslamp Games' 'Tripwire Interactive' 'Game Factory' 'Aspyr' 'Xplosiv'\n",
      " 'Bigben Interactive' 'Pacific Century Cyber Works' '5P' 'Genki'\n",
      " 'Arc System Works' 'Mc2 Entertainment' 'Cdv Software Entertainment'\n",
      " 'Indie Games' 'Mad Catz' 'Screenlife' 'Nobilis' 'Groove Games' 'Unknown'\n",
      " 'Sold Out' 'Sting' 'Destination Software, Inc' 'Evolved Games'\n",
      " 'Destineer' 'Tomy Corporation' 'Jaleco' 'Milestone S.R.L' 'Microids'\n",
      " 'City Interactive' 'Ubisoft Annecy' 'System 3' 'Milestone S.R.L.'\n",
      " '506 Games' 'Hip Interactive' 'Mastiff' 'Illusion Softworks'\n",
      " 'Zushi Games' 'Home Entertainment Suppliers' 'Hudson Soft'\n",
      " 'Midas Interactive Entertainment' 'Sony Online Entertainment'\n",
      " 'Sammy Corporation' 'Devolver Digital' 'Xseed Games'\n",
      " 'Topware Interactive' 'Playlogic Game Factory' 'Iceberg Interactive'\n",
      " 'Slightly Mad Studios' 'Blue Byte' 'Furyu'\n",
      " 'Sony Computer Entertainment America' 'Aqua Plus'\n",
      " 'Ascaron Entertainment Gmbh' 'System 3 Arcade Software'\n",
      " 'Ascii Entertainment' 'Telltale Games' 'Ea Games'\n",
      " 'Rebellion Developments' 'Cloud Imperium Games Corporation'\n",
      " 'Valcon Games' 'Flashpoint Games' 'Cave' 'Gotham Games' 'Gamebridge'\n",
      " 'Valve Software' 'Square Ea' 'Activision Blizzard' 'Agetec'\n",
      " 'Naturalmotion' 'Avalon Interactive' 'Xs Games' 'Compile Heart'\n",
      " 'Touchstone' 'Pinnacle' 'Thq Nordic' 'Stainless Games' 'Mindscape'\n",
      " 'Tru Blu Entertainment' 'Enterbrain' 'Swing! Entertainment'\n",
      " 'Havas Interactive' 'Encore' 'Novalogic' 'Bitcomposer Games' 'Acquire'\n",
      " 'Dreamcatcher Interactive' 'Moss' 'Monster Games' 'Black Label Games'\n",
      " 'Revolution Software' 'Visco' 'Snk' 'Lexicon Entertainment'\n",
      " 'Aq Interactive' 'Rondomedia' 'Pm Studios' 'O-Games' 'Xicat Interactive'\n",
      " 'En Masse Entertainment' 'Team17 Software' 'Agatsuma Entertainment'\n",
      " 'Strategy First' 'Oovee Game Studios' 'Her Interactive']\n",
      "************************************\n",
      "RATING\n",
      "Length of Unique Elements  6\n",
      "Unique Elemts\n",
      "['E' 'E10+' 'M' 'T' 'K-A' 'RP']\n"
     ]
    }
   ],
   "source": [
    "print(\"Describing All Object Types\")\n",
    "for i in range(len(obj)):\n",
    "    print(\"************************************\")\n",
    "    print(obj[i])\n",
    "    print(\"Length of Unique Elements \", len(df[obj[i]].unique()))\n",
    "    print(\"Unique Elemts\")\n",
    "    print(df[obj[i]].unique())\n",
    "    \n",
    "    "
   ]
  },
  {
   "cell_type": "code",
   "execution_count": 21,
   "metadata": {},
   "outputs": [],
   "source": [
    "#Describing The Data"
   ]
  },
  {
   "cell_type": "code",
   "execution_count": 22,
   "metadata": {},
   "outputs": [
    {
     "data": {
      "text/html": [
       "<div>\n",
       "<style scoped>\n",
       "    .dataframe tbody tr th:only-of-type {\n",
       "        vertical-align: middle;\n",
       "    }\n",
       "\n",
       "    .dataframe tbody tr th {\n",
       "        vertical-align: top;\n",
       "    }\n",
       "\n",
       "    .dataframe thead th {\n",
       "        text-align: right;\n",
       "    }\n",
       "</style>\n",
       "<table border=\"1\" class=\"dataframe\">\n",
       "  <thead>\n",
       "    <tr style=\"text-align: right;\">\n",
       "      <th></th>\n",
       "      <th>ID</th>\n",
       "      <th>YEAR</th>\n",
       "      <th>CRITICS_POINTS</th>\n",
       "      <th>USER_POINTS</th>\n",
       "      <th>SalesInMillions</th>\n",
       "    </tr>\n",
       "  </thead>\n",
       "  <tbody>\n",
       "    <tr>\n",
       "      <th>count</th>\n",
       "      <td>3506.000000</td>\n",
       "      <td>3506.000000</td>\n",
       "      <td>3506.000000</td>\n",
       "      <td>3506.000000</td>\n",
       "      <td>3506.000000</td>\n",
       "    </tr>\n",
       "    <tr>\n",
       "      <th>mean</th>\n",
       "      <td>2282.233600</td>\n",
       "      <td>2008.990302</td>\n",
       "      <td>3.790831</td>\n",
       "      <td>0.405824</td>\n",
       "      <td>2.171021</td>\n",
       "    </tr>\n",
       "    <tr>\n",
       "      <th>std</th>\n",
       "      <td>1287.273422</td>\n",
       "      <td>4.304252</td>\n",
       "      <td>3.141781</td>\n",
       "      <td>0.455541</td>\n",
       "      <td>2.495396</td>\n",
       "    </tr>\n",
       "    <tr>\n",
       "      <th>min</th>\n",
       "      <td>1.000000</td>\n",
       "      <td>1997.000000</td>\n",
       "      <td>0.568966</td>\n",
       "      <td>0.000341</td>\n",
       "      <td>0.001524</td>\n",
       "    </tr>\n",
       "    <tr>\n",
       "      <th>25%</th>\n",
       "      <td>1220.250000</td>\n",
       "      <td>2006.000000</td>\n",
       "      <td>1.738095</td>\n",
       "      <td>0.065966</td>\n",
       "      <td>0.965679</td>\n",
       "    </tr>\n",
       "    <tr>\n",
       "      <th>50%</th>\n",
       "      <td>2262.500000</td>\n",
       "      <td>2009.000000</td>\n",
       "      <td>2.766667</td>\n",
       "      <td>0.233333</td>\n",
       "      <td>1.866140</td>\n",
       "    </tr>\n",
       "    <tr>\n",
       "      <th>75%</th>\n",
       "      <td>3404.750000</td>\n",
       "      <td>2012.000000</td>\n",
       "      <td>4.621528</td>\n",
       "      <td>0.598333</td>\n",
       "      <td>2.792029</td>\n",
       "    </tr>\n",
       "    <tr>\n",
       "      <th>max</th>\n",
       "      <td>4523.000000</td>\n",
       "      <td>2019.000000</td>\n",
       "      <td>23.250000</td>\n",
       "      <td>2.325000</td>\n",
       "      <td>84.226041</td>\n",
       "    </tr>\n",
       "  </tbody>\n",
       "</table>\n",
       "</div>"
      ],
      "text/plain": [
       "                ID         YEAR  CRITICS_POINTS  USER_POINTS  SalesInMillions\n",
       "count  3506.000000  3506.000000     3506.000000  3506.000000      3506.000000\n",
       "mean   2282.233600  2008.990302        3.790831     0.405824         2.171021\n",
       "std    1287.273422     4.304252        3.141781     0.455541         2.495396\n",
       "min       1.000000  1997.000000        0.568966     0.000341         0.001524\n",
       "25%    1220.250000  2006.000000        1.738095     0.065966         0.965679\n",
       "50%    2262.500000  2009.000000        2.766667     0.233333         1.866140\n",
       "75%    3404.750000  2012.000000        4.621528     0.598333         2.792029\n",
       "max    4523.000000  2019.000000       23.250000     2.325000        84.226041"
      ]
     },
     "execution_count": 22,
     "metadata": {},
     "output_type": "execute_result"
    }
   ],
   "source": [
    "df.describe()"
   ]
  },
  {
   "cell_type": "code",
   "execution_count": 25,
   "metadata": {},
   "outputs": [
    {
     "data": {
      "text/html": [
       "<div>\n",
       "<style scoped>\n",
       "    .dataframe tbody tr th:only-of-type {\n",
       "        vertical-align: middle;\n",
       "    }\n",
       "\n",
       "    .dataframe tbody tr th {\n",
       "        vertical-align: top;\n",
       "    }\n",
       "\n",
       "    .dataframe thead th {\n",
       "        text-align: right;\n",
       "    }\n",
       "</style>\n",
       "<table border=\"1\" class=\"dataframe\">\n",
       "  <thead>\n",
       "    <tr style=\"text-align: right;\">\n",
       "      <th></th>\n",
       "      <th>ID</th>\n",
       "      <th>CONSOLE</th>\n",
       "      <th>YEAR</th>\n",
       "      <th>CATEGORY</th>\n",
       "      <th>PUBLISHER</th>\n",
       "      <th>RATING</th>\n",
       "      <th>CRITICS_POINTS</th>\n",
       "      <th>USER_POINTS</th>\n",
       "      <th>SalesInMillions</th>\n",
       "    </tr>\n",
       "  </thead>\n",
       "  <tbody>\n",
       "    <tr>\n",
       "      <th>count</th>\n",
       "      <td>3506.000000</td>\n",
       "      <td>3506</td>\n",
       "      <td>3506.000000</td>\n",
       "      <td>3506</td>\n",
       "      <td>3506</td>\n",
       "      <td>3506</td>\n",
       "      <td>3506.000000</td>\n",
       "      <td>3506.000000</td>\n",
       "      <td>3506.000000</td>\n",
       "    </tr>\n",
       "    <tr>\n",
       "      <th>unique</th>\n",
       "      <td>NaN</td>\n",
       "      <td>17</td>\n",
       "      <td>NaN</td>\n",
       "      <td>12</td>\n",
       "      <td>204</td>\n",
       "      <td>6</td>\n",
       "      <td>NaN</td>\n",
       "      <td>NaN</td>\n",
       "      <td>NaN</td>\n",
       "    </tr>\n",
       "    <tr>\n",
       "      <th>top</th>\n",
       "      <td>NaN</td>\n",
       "      <td>ps2</td>\n",
       "      <td>NaN</td>\n",
       "      <td>action</td>\n",
       "      <td>Electronic Arts</td>\n",
       "      <td>T</td>\n",
       "      <td>NaN</td>\n",
       "      <td>NaN</td>\n",
       "      <td>NaN</td>\n",
       "    </tr>\n",
       "    <tr>\n",
       "      <th>freq</th>\n",
       "      <td>NaN</td>\n",
       "      <td>585</td>\n",
       "      <td>NaN</td>\n",
       "      <td>845</td>\n",
       "      <td>497</td>\n",
       "      <td>1182</td>\n",
       "      <td>NaN</td>\n",
       "      <td>NaN</td>\n",
       "      <td>NaN</td>\n",
       "    </tr>\n",
       "    <tr>\n",
       "      <th>mean</th>\n",
       "      <td>2282.233600</td>\n",
       "      <td>NaN</td>\n",
       "      <td>2008.990302</td>\n",
       "      <td>NaN</td>\n",
       "      <td>NaN</td>\n",
       "      <td>NaN</td>\n",
       "      <td>3.790831</td>\n",
       "      <td>0.405824</td>\n",
       "      <td>2.171021</td>\n",
       "    </tr>\n",
       "    <tr>\n",
       "      <th>std</th>\n",
       "      <td>1287.273422</td>\n",
       "      <td>NaN</td>\n",
       "      <td>4.304252</td>\n",
       "      <td>NaN</td>\n",
       "      <td>NaN</td>\n",
       "      <td>NaN</td>\n",
       "      <td>3.141781</td>\n",
       "      <td>0.455541</td>\n",
       "      <td>2.495396</td>\n",
       "    </tr>\n",
       "    <tr>\n",
       "      <th>min</th>\n",
       "      <td>1.000000</td>\n",
       "      <td>NaN</td>\n",
       "      <td>1997.000000</td>\n",
       "      <td>NaN</td>\n",
       "      <td>NaN</td>\n",
       "      <td>NaN</td>\n",
       "      <td>0.568966</td>\n",
       "      <td>0.000341</td>\n",
       "      <td>0.001524</td>\n",
       "    </tr>\n",
       "    <tr>\n",
       "      <th>25%</th>\n",
       "      <td>1220.250000</td>\n",
       "      <td>NaN</td>\n",
       "      <td>2006.000000</td>\n",
       "      <td>NaN</td>\n",
       "      <td>NaN</td>\n",
       "      <td>NaN</td>\n",
       "      <td>1.738095</td>\n",
       "      <td>0.065966</td>\n",
       "      <td>0.965679</td>\n",
       "    </tr>\n",
       "    <tr>\n",
       "      <th>50%</th>\n",
       "      <td>2262.500000</td>\n",
       "      <td>NaN</td>\n",
       "      <td>2009.000000</td>\n",
       "      <td>NaN</td>\n",
       "      <td>NaN</td>\n",
       "      <td>NaN</td>\n",
       "      <td>2.766667</td>\n",
       "      <td>0.233333</td>\n",
       "      <td>1.866140</td>\n",
       "    </tr>\n",
       "    <tr>\n",
       "      <th>75%</th>\n",
       "      <td>3404.750000</td>\n",
       "      <td>NaN</td>\n",
       "      <td>2012.000000</td>\n",
       "      <td>NaN</td>\n",
       "      <td>NaN</td>\n",
       "      <td>NaN</td>\n",
       "      <td>4.621528</td>\n",
       "      <td>0.598333</td>\n",
       "      <td>2.792029</td>\n",
       "    </tr>\n",
       "    <tr>\n",
       "      <th>max</th>\n",
       "      <td>4523.000000</td>\n",
       "      <td>NaN</td>\n",
       "      <td>2019.000000</td>\n",
       "      <td>NaN</td>\n",
       "      <td>NaN</td>\n",
       "      <td>NaN</td>\n",
       "      <td>23.250000</td>\n",
       "      <td>2.325000</td>\n",
       "      <td>84.226041</td>\n",
       "    </tr>\n",
       "  </tbody>\n",
       "</table>\n",
       "</div>"
      ],
      "text/plain": [
       "                 ID CONSOLE         YEAR CATEGORY        PUBLISHER RATING  \\\n",
       "count   3506.000000    3506  3506.000000     3506             3506   3506   \n",
       "unique          NaN      17          NaN       12              204      6   \n",
       "top             NaN     ps2          NaN   action  Electronic Arts      T   \n",
       "freq            NaN     585          NaN      845              497   1182   \n",
       "mean    2282.233600     NaN  2008.990302      NaN              NaN    NaN   \n",
       "std     1287.273422     NaN     4.304252      NaN              NaN    NaN   \n",
       "min        1.000000     NaN  1997.000000      NaN              NaN    NaN   \n",
       "25%     1220.250000     NaN  2006.000000      NaN              NaN    NaN   \n",
       "50%     2262.500000     NaN  2009.000000      NaN              NaN    NaN   \n",
       "75%     3404.750000     NaN  2012.000000      NaN              NaN    NaN   \n",
       "max     4523.000000     NaN  2019.000000      NaN              NaN    NaN   \n",
       "\n",
       "        CRITICS_POINTS  USER_POINTS  SalesInMillions  \n",
       "count      3506.000000  3506.000000      3506.000000  \n",
       "unique             NaN          NaN              NaN  \n",
       "top                NaN          NaN              NaN  \n",
       "freq               NaN          NaN              NaN  \n",
       "mean          3.790831     0.405824         2.171021  \n",
       "std           3.141781     0.455541         2.495396  \n",
       "min           0.568966     0.000341         0.001524  \n",
       "25%           1.738095     0.065966         0.965679  \n",
       "50%           2.766667     0.233333         1.866140  \n",
       "75%           4.621528     0.598333         2.792029  \n",
       "max          23.250000     2.325000        84.226041  "
      ]
     },
     "execution_count": 25,
     "metadata": {},
     "output_type": "execute_result"
    }
   ],
   "source": [
    "df.describe(include='all')"
   ]
  },
  {
   "cell_type": "code",
   "execution_count": 5,
   "metadata": {},
   "outputs": [],
   "source": []
  },
  {
   "cell_type": "code",
   "execution_count": 44,
   "metadata": {},
   "outputs": [
    {
     "name": "stdout",
     "output_type": "stream",
     "text": [
      "ID\n",
      "int64\n"
     ]
    },
    {
     "data": {
      "image/png": "[encoded data removed]",
      "text/plain": [
       "<Figure size 432x288 with 1 Axes>"
      ]
     },
     "metadata": {
      "needs_background": "light"
     },
     "output_type": "display_data"
    },
    {
     "name": "stdout",
     "output_type": "stream",
     "text": [
      "CONSOLE\n",
      "object\n",
      "YEAR\n",
      "int64\n"
     ]
    },
    {
     "data": {
      "image/png": "[encoded data removed]",
      "text/plain": [
       "<Figure size 432x288 with 1 Axes>"
      ]
     },
     "metadata": {
      "needs_background": "light"
     },
     "output_type": "display_data"
    },
    {
     "name": "stdout",
     "output_type": "stream",
     "text": [
      "CATEGORY\n",
      "object\n",
      "PUBLISHER\n",
      "object\n",
      "RATING\n",
      "object\n",
      "CRITICS_POINTS\n",
      "float64\n"
     ]
    },
    {
     "data": {
      "image/png": "[encoded data removed]",
      "text/plain": [
       "<Figure size 432x288 with 1 Axes>"
      ]
     },
     "metadata": {
      "needs_background": "light"
     },
     "output_type": "display_data"
    },
    {
     "name": "stdout",
     "output_type": "stream",
     "text": [
      "USER_POINTS\n",
      "float64\n"
     ]
    },
    {
     "data": {
      "image/png": "[encoded data removed]",
      "text/plain": [
       "<Figure size 432x288 with 1 Axes>"
      ]
     },
     "metadata": {
      "needs_background": "light"
     },
     "output_type": "display_data"
    },
    {
     "name": "stdout",
     "output_type": "stream",
     "text": [
      "SalesInMillions\n",
      "float64\n"
     ]
    },
    {
     "data": {
      "image/png": "[encoded data removed]",
      "text/plain": [
       "<Figure size 432x288 with 1 Axes>"
      ]
     },
     "metadata": {
      "needs_background": "light"
     },
     "output_type": "display_data"
    }
   ],
   "source": [
    "for i in df.columns:\n",
    "    print(i)\n",
    "    print(df[i].dtypes)\n",
    "    if(df[i].dtypes!='object'):\n",
    "        sns.boxplot(df[i])\n",
    "    plt.show()"
   ]
  },
  {
   "cell_type": "code",
   "execution_count": null,
   "metadata": {},
   "outputs": [],
   "source": [
    "CRITICS_POINTS\n",
    "USER_POINTS"
   ]
  },
  {
   "cell_type": "code",
   "execution_count": 84,
   "metadata": {},
   "outputs": [
    {
     "data": {
      "text/plain": [
       "Index(['ID', 'CONSOLE', 'YEAR', 'CATEGORY', 'PUBLISHER', 'RATING',\n",
       "       'CRITICS_POINTS', 'USER_POINTS', 'SalesInMillions'],\n",
       "      dtype='object')"
      ]
     },
     "execution_count": 84,
     "metadata": {},
     "output_type": "execute_result"
    }
   ],
   "source": [
    "df.columns"
   ]
  },
  {
   "cell_type": "code",
   "execution_count": 18,
   "metadata": {},
   "outputs": [
    {
     "data": {
      "text/plain": [
       "0        2.833333\n",
       "1       13.200000\n",
       "2        4.562500\n",
       "3        4.181818\n",
       "4        2.259259\n",
       "          ...    \n",
       "3501     1.702128\n",
       "3502     3.625000\n",
       "3503     2.814815\n",
       "3504     2.571429\n",
       "3505     4.411765\n",
       "Name: CRITICS_POINTS, Length: 3506, dtype: float64"
      ]
     },
     "execution_count": 18,
     "metadata": {},
     "output_type": "execute_result"
    }
   ],
   "source": [
    "df['CRITICS_POINTS']"
   ]
  },
  {
   "cell_type": "code",
   "execution_count": 16,
   "metadata": {},
   "outputs": [
    {
     "data": {
      "text/plain": [
       "array(['E', 'E10+', 'M', 'T', 'K-A', 'RP'], dtype=object)"
      ]
     },
     "execution_count": 16,
     "metadata": {},
     "output_type": "execute_result"
    }
   ],
   "source": [
    "df['RATING'].unique()"
   ]
  },
  {
   "cell_type": "code",
   "execution_count": 17,
   "metadata": {},
   "outputs": [
    {
     "data": {
      "text/plain": [
       "ID                   int64\n",
       "CONSOLE             object\n",
       "YEAR                 int64\n",
       "CATEGORY            object\n",
       "PUBLISHER           object\n",
       "RATING              object\n",
       "CRITICS_POINTS     float64\n",
       "USER_POINTS        float64\n",
       "SalesInMillions    float64\n",
       "dtype: object"
      ]
     },
     "execution_count": 17,
     "metadata": {},
     "output_type": "execute_result"
    }
   ],
   "source": [
    "df.dtypes"
   ]
  },
  {
   "cell_type": "code",
   "execution_count": 85,
   "metadata": {},
   "outputs": [],
   "source": [
    "li = ['CONSOLE', 'CATEGORY', 'PUBLISHER', 'RATING']"
   ]
  },
  {
   "cell_type": "code",
   "execution_count": 86,
   "metadata": {},
   "outputs": [
    {
     "data": {
      "text/plain": [
       "ID                 0\n",
       "CONSOLE            0\n",
       "YEAR               0\n",
       "CATEGORY           0\n",
       "PUBLISHER          0\n",
       "RATING             0\n",
       "CRITICS_POINTS     0\n",
       "USER_POINTS        0\n",
       "SalesInMillions    0\n",
       "dtype: int64"
      ]
     },
     "execution_count": 86,
     "metadata": {},
     "output_type": "execute_result"
    }
   ],
   "source": [
    "df.isnull().sum()"
   ]
  },
  {
   "cell_type": "code",
   "execution_count": null,
   "metadata": {},
   "outputs": [],
   "source": []
  },
  {
   "cell_type": "code",
   "execution_count": 87,
   "metadata": {},
   "outputs": [],
   "source": [
    "import pandas as pd\n"
   ]
  },
  {
   "cell_type": "code",
   "execution_count": null,
   "metadata": {},
   "outputs": [],
   "source": []
  },
  {
   "cell_type": "code",
   "execution_count": 88,
   "metadata": {},
   "outputs": [],
   "source": [
    "df = pd.get_dummies(df, columns = li)"
   ]
  },
  {
   "cell_type": "code",
   "execution_count": 89,
   "metadata": {},
   "outputs": [
    {
     "data": {
      "text/html": [
       "<div>\n",
       "<style scoped>\n",
       "    .dataframe tbody tr th:only-of-type {\n",
       "        vertical-align: middle;\n",
       "    }\n",
       "\n",
       "    .dataframe tbody tr th {\n",
       "        vertical-align: top;\n",
       "    }\n",
       "\n",
       "    .dataframe thead th {\n",
       "        text-align: right;\n",
       "    }\n",
       "</style>\n",
       "<table border=\"1\" class=\"dataframe\">\n",
       "  <thead>\n",
       "    <tr style=\"text-align: right;\">\n",
       "      <th></th>\n",
       "      <th>ID</th>\n",
       "      <th>YEAR</th>\n",
       "      <th>CRITICS_POINTS</th>\n",
       "      <th>USER_POINTS</th>\n",
       "      <th>SalesInMillions</th>\n",
       "      <th>CONSOLE_3ds</th>\n",
       "      <th>CONSOLE_dc</th>\n",
       "      <th>CONSOLE_ds</th>\n",
       "      <th>CONSOLE_gba</th>\n",
       "      <th>CONSOLE_gc</th>\n",
       "      <th>...</th>\n",
       "      <th>PUBLISHER_Yacht Club Games</th>\n",
       "      <th>PUBLISHER_Zoo Digital Publishing</th>\n",
       "      <th>PUBLISHER_Zoo Games</th>\n",
       "      <th>PUBLISHER_Zushi Games</th>\n",
       "      <th>RATING_E</th>\n",
       "      <th>RATING_E10+</th>\n",
       "      <th>RATING_K-A</th>\n",
       "      <th>RATING_M</th>\n",
       "      <th>RATING_RP</th>\n",
       "      <th>RATING_T</th>\n",
       "    </tr>\n",
       "  </thead>\n",
       "  <tbody>\n",
       "    <tr>\n",
       "      <th>0</th>\n",
       "      <td>2860</td>\n",
       "      <td>2008</td>\n",
       "      <td>2.833333</td>\n",
       "      <td>0.303704</td>\n",
       "      <td>1.779257</td>\n",
       "      <td>0</td>\n",
       "      <td>0</td>\n",
       "      <td>1</td>\n",
       "      <td>0</td>\n",
       "      <td>0</td>\n",
       "      <td>...</td>\n",
       "      <td>0</td>\n",
       "      <td>0</td>\n",
       "      <td>0</td>\n",
       "      <td>0</td>\n",
       "      <td>1</td>\n",
       "      <td>0</td>\n",
       "      <td>0</td>\n",
       "      <td>0</td>\n",
       "      <td>0</td>\n",
       "      <td>0</td>\n",
       "    </tr>\n",
       "    <tr>\n",
       "      <th>1</th>\n",
       "      <td>731</td>\n",
       "      <td>2012</td>\n",
       "      <td>13.200000</td>\n",
       "      <td>1.640000</td>\n",
       "      <td>0.215050</td>\n",
       "      <td>0</td>\n",
       "      <td>0</td>\n",
       "      <td>0</td>\n",
       "      <td>0</td>\n",
       "      <td>0</td>\n",
       "      <td>...</td>\n",
       "      <td>0</td>\n",
       "      <td>0</td>\n",
       "      <td>0</td>\n",
       "      <td>0</td>\n",
       "      <td>0</td>\n",
       "      <td>1</td>\n",
       "      <td>0</td>\n",
       "      <td>0</td>\n",
       "      <td>0</td>\n",
       "      <td>0</td>\n",
       "    </tr>\n",
       "    <tr>\n",
       "      <th>2</th>\n",
       "      <td>495</td>\n",
       "      <td>2019</td>\n",
       "      <td>4.562500</td>\n",
       "      <td>0.006410</td>\n",
       "      <td>0.534402</td>\n",
       "      <td>0</td>\n",
       "      <td>0</td>\n",
       "      <td>0</td>\n",
       "      <td>0</td>\n",
       "      <td>0</td>\n",
       "      <td>...</td>\n",
       "      <td>0</td>\n",
       "      <td>0</td>\n",
       "      <td>0</td>\n",
       "      <td>0</td>\n",
       "      <td>0</td>\n",
       "      <td>0</td>\n",
       "      <td>0</td>\n",
       "      <td>1</td>\n",
       "      <td>0</td>\n",
       "      <td>0</td>\n",
       "    </tr>\n",
       "    <tr>\n",
       "      <th>3</th>\n",
       "      <td>2641</td>\n",
       "      <td>2002</td>\n",
       "      <td>4.181818</td>\n",
       "      <td>0.326923</td>\n",
       "      <td>1.383964</td>\n",
       "      <td>0</td>\n",
       "      <td>0</td>\n",
       "      <td>0</td>\n",
       "      <td>0</td>\n",
       "      <td>0</td>\n",
       "      <td>...</td>\n",
       "      <td>0</td>\n",
       "      <td>0</td>\n",
       "      <td>0</td>\n",
       "      <td>0</td>\n",
       "      <td>1</td>\n",
       "      <td>0</td>\n",
       "      <td>0</td>\n",
       "      <td>0</td>\n",
       "      <td>0</td>\n",
       "      <td>0</td>\n",
       "    </tr>\n",
       "    <tr>\n",
       "      <th>4</th>\n",
       "      <td>811</td>\n",
       "      <td>2013</td>\n",
       "      <td>2.259259</td>\n",
       "      <td>0.032579</td>\n",
       "      <td>0.082671</td>\n",
       "      <td>0</td>\n",
       "      <td>0</td>\n",
       "      <td>0</td>\n",
       "      <td>0</td>\n",
       "      <td>0</td>\n",
       "      <td>...</td>\n",
       "      <td>0</td>\n",
       "      <td>0</td>\n",
       "      <td>0</td>\n",
       "      <td>0</td>\n",
       "      <td>0</td>\n",
       "      <td>0</td>\n",
       "      <td>0</td>\n",
       "      <td>1</td>\n",
       "      <td>0</td>\n",
       "      <td>0</td>\n",
       "    </tr>\n",
       "    <tr>\n",
       "      <th>...</th>\n",
       "      <td>...</td>\n",
       "      <td>...</td>\n",
       "      <td>...</td>\n",
       "      <td>...</td>\n",
       "      <td>...</td>\n",
       "      <td>...</td>\n",
       "      <td>...</td>\n",
       "      <td>...</td>\n",
       "      <td>...</td>\n",
       "      <td>...</td>\n",
       "      <td>...</td>\n",
       "      <td>...</td>\n",
       "      <td>...</td>\n",
       "      <td>...</td>\n",
       "      <td>...</td>\n",
       "      <td>...</td>\n",
       "      <td>...</td>\n",
       "      <td>...</td>\n",
       "      <td>...</td>\n",
       "      <td>...</td>\n",
       "      <td>...</td>\n",
       "    </tr>\n",
       "    <tr>\n",
       "      <th>3501</th>\n",
       "      <td>1323</td>\n",
       "      <td>2007</td>\n",
       "      <td>1.702128</td>\n",
       "      <td>0.065421</td>\n",
       "      <td>3.584264</td>\n",
       "      <td>0</td>\n",
       "      <td>0</td>\n",
       "      <td>1</td>\n",
       "      <td>0</td>\n",
       "      <td>0</td>\n",
       "      <td>...</td>\n",
       "      <td>0</td>\n",
       "      <td>0</td>\n",
       "      <td>0</td>\n",
       "      <td>0</td>\n",
       "      <td>0</td>\n",
       "      <td>1</td>\n",
       "      <td>0</td>\n",
       "      <td>0</td>\n",
       "      <td>0</td>\n",
       "      <td>0</td>\n",
       "    </tr>\n",
       "    <tr>\n",
       "      <th>3502</th>\n",
       "      <td>2862</td>\n",
       "      <td>2018</td>\n",
       "      <td>3.625000</td>\n",
       "      <td>0.090000</td>\n",
       "      <td>2.701472</td>\n",
       "      <td>1</td>\n",
       "      <td>0</td>\n",
       "      <td>0</td>\n",
       "      <td>0</td>\n",
       "      <td>0</td>\n",
       "      <td>...</td>\n",
       "      <td>0</td>\n",
       "      <td>0</td>\n",
       "      <td>0</td>\n",
       "      <td>0</td>\n",
       "      <td>0</td>\n",
       "      <td>1</td>\n",
       "      <td>0</td>\n",
       "      <td>0</td>\n",
       "      <td>0</td>\n",
       "      <td>0</td>\n",
       "    </tr>\n",
       "    <tr>\n",
       "      <th>3503</th>\n",
       "      <td>1980</td>\n",
       "      <td>2012</td>\n",
       "      <td>2.814815</td>\n",
       "      <td>0.172917</td>\n",
       "      <td>1.631668</td>\n",
       "      <td>0</td>\n",
       "      <td>0</td>\n",
       "      <td>0</td>\n",
       "      <td>0</td>\n",
       "      <td>0</td>\n",
       "      <td>...</td>\n",
       "      <td>0</td>\n",
       "      <td>0</td>\n",
       "      <td>0</td>\n",
       "      <td>0</td>\n",
       "      <td>0</td>\n",
       "      <td>1</td>\n",
       "      <td>0</td>\n",
       "      <td>0</td>\n",
       "      <td>0</td>\n",
       "      <td>0</td>\n",
       "    </tr>\n",
       "    <tr>\n",
       "      <th>3504</th>\n",
       "      <td>3065</td>\n",
       "      <td>2016</td>\n",
       "      <td>2.571429</td>\n",
       "      <td>0.464286</td>\n",
       "      <td>2.899156</td>\n",
       "      <td>1</td>\n",
       "      <td>0</td>\n",
       "      <td>0</td>\n",
       "      <td>0</td>\n",
       "      <td>0</td>\n",
       "      <td>...</td>\n",
       "      <td>0</td>\n",
       "      <td>0</td>\n",
       "      <td>0</td>\n",
       "      <td>0</td>\n",
       "      <td>0</td>\n",
       "      <td>1</td>\n",
       "      <td>0</td>\n",
       "      <td>0</td>\n",
       "      <td>0</td>\n",
       "      <td>0</td>\n",
       "    </tr>\n",
       "    <tr>\n",
       "      <th>3505</th>\n",
       "      <td>3722</td>\n",
       "      <td>2005</td>\n",
       "      <td>4.411765</td>\n",
       "      <td>2.325000</td>\n",
       "      <td>1.221262</td>\n",
       "      <td>0</td>\n",
       "      <td>0</td>\n",
       "      <td>0</td>\n",
       "      <td>0</td>\n",
       "      <td>1</td>\n",
       "      <td>...</td>\n",
       "      <td>0</td>\n",
       "      <td>0</td>\n",
       "      <td>0</td>\n",
       "      <td>0</td>\n",
       "      <td>1</td>\n",
       "      <td>0</td>\n",
       "      <td>0</td>\n",
       "      <td>0</td>\n",
       "      <td>0</td>\n",
       "      <td>0</td>\n",
       "    </tr>\n",
       "  </tbody>\n",
       "</table>\n",
       "<p>3506 rows × 244 columns</p>\n",
       "</div>"
      ],
      "text/plain": [
       "        ID  YEAR  CRITICS_POINTS  USER_POINTS  SalesInMillions  CONSOLE_3ds  \\\n",
       "0     2860  2008        2.833333     0.303704         1.779257            0   \n",
       "1      731  2012       13.200000     1.640000         0.215050            0   \n",
       "2      495  2019        4.562500     0.006410         0.534402            0   \n",
       "3     2641  2002        4.181818     0.326923         1.383964            0   \n",
       "4      811  2013        2.259259     0.032579         0.082671            0   \n",
       "...    ...   ...             ...          ...              ...          ...   \n",
       "3501  1323  2007        1.702128     0.065421         3.584264            0   \n",
       "3502  2862  2018        3.625000     0.090000         2.701472            1   \n",
       "3503  1980  2012        2.814815     0.172917         1.631668            0   \n",
       "3504  3065  2016        2.571429     0.464286         2.899156            1   \n",
       "3505  3722  2005        4.411765     2.325000         1.221262            0   \n",
       "\n",
       "      CONSOLE_dc  CONSOLE_ds  CONSOLE_gba  CONSOLE_gc  ...  \\\n",
       "0              0           1            0           0  ...   \n",
       "1              0           0            0           0  ...   \n",
       "2              0           0            0           0  ...   \n",
       "3              0           0            0           0  ...   \n",
       "4              0           0            0           0  ...   \n",
       "...          ...         ...          ...         ...  ...   \n",
       "3501           0           1            0           0  ...   \n",
       "3502           0           0            0           0  ...   \n",
       "3503           0           0            0           0  ...   \n",
       "3504           0           0            0           0  ...   \n",
       "3505           0           0            0           1  ...   \n",
       "\n",
       "      PUBLISHER_Yacht Club Games  PUBLISHER_Zoo Digital Publishing  \\\n",
       "0                              0                                 0   \n",
       "1                              0                                 0   \n",
       "2                              0                                 0   \n",
       "3                              0                                 0   \n",
       "4                              0                                 0   \n",
       "...                          ...                               ...   \n",
       "3501                           0                                 0   \n",
       "3502                           0                                 0   \n",
       "3503                           0                                 0   \n",
       "3504                           0                                 0   \n",
       "3505                           0                                 0   \n",
       "\n",
       "      PUBLISHER_Zoo Games  PUBLISHER_Zushi Games  RATING_E  RATING_E10+  \\\n",
       "0                       0                      0         1            0   \n",
       "1                       0                      0         0            1   \n",
       "2                       0                      0         0            0   \n",
       "3                       0                      0         1            0   \n",
       "4                       0                      0         0            0   \n",
       "...                   ...                    ...       ...          ...   \n",
       "3501                    0                      0         0            1   \n",
       "3502                    0                      0         0            1   \n",
       "3503                    0                      0         0            1   \n",
       "3504                    0                      0         0            1   \n",
       "3505                    0                      0         1            0   \n",
       "\n",
       "      RATING_K-A  RATING_M  RATING_RP  RATING_T  \n",
       "0              0         0          0         0  \n",
       "1              0         0          0         0  \n",
       "2              0         1          0         0  \n",
       "3              0         0          0         0  \n",
       "4              0         1          0         0  \n",
       "...          ...       ...        ...       ...  \n",
       "3501           0         0          0         0  \n",
       "3502           0         0          0         0  \n",
       "3503           0         0          0         0  \n",
       "3504           0         0          0         0  \n",
       "3505           0         0          0         0  \n",
       "\n",
       "[3506 rows x 244 columns]"
      ]
     },
     "execution_count": 89,
     "metadata": {},
     "output_type": "execute_result"
    }
   ],
   "source": [
    "df"
   ]
  },
  {
   "cell_type": "code",
   "execution_count": 90,
   "metadata": {},
   "outputs": [
    {
     "data": {
      "text/plain": [
       "array([2008, 2012, 2019, 2002, 2013, 2004, 2014, 2016, 2010, 2006, 2007,\n",
       "       2011, 2003, 2001, 2015, 2009, 2000, 2005, 2017, 1999, 2018, 1998,\n",
       "       1997])"
      ]
     },
     "execution_count": 90,
     "metadata": {},
     "output_type": "execute_result"
    }
   ],
   "source": [
    "df['YEAR'].unique()"
   ]
  },
  {
   "cell_type": "code",
   "execution_count": 91,
   "metadata": {},
   "outputs": [],
   "source": [
    "df['mYear'] = df['YEAR'] - 1997"
   ]
  },
  {
   "cell_type": "code",
   "execution_count": 92,
   "metadata": {},
   "outputs": [],
   "source": [
    "df = df.drop('YEAR',axis=1)"
   ]
  },
  {
   "cell_type": "code",
   "execution_count": null,
   "metadata": {},
   "outputs": [],
   "source": []
  },
  {
   "cell_type": "code",
   "execution_count": 93,
   "metadata": {},
   "outputs": [
    {
     "name": "stdout",
     "output_type": "stream",
     "text": [
      "checkingFiles.ipynb  File1.ipynb  Sample_Submission.csv  Train.csv\r\n",
      "\u001b[0m\u001b[01;31mData.zip\u001b[0m             README.md    Test.csv               Untitled.ipynb\r\n"
     ]
    }
   ],
   "source": [
    "ls"
   ]
  },
  {
   "cell_type": "code",
   "execution_count": null,
   "metadata": {},
   "outputs": [],
   "source": []
  },
  {
   "cell_type": "code",
   "execution_count": 94,
   "metadata": {},
   "outputs": [
    {
     "data": {
      "text/html": [
       "<div>\n",
       "<style scoped>\n",
       "    .dataframe tbody tr th:only-of-type {\n",
       "        vertical-align: middle;\n",
       "    }\n",
       "\n",
       "    .dataframe tbody tr th {\n",
       "        vertical-align: top;\n",
       "    }\n",
       "\n",
       "    .dataframe thead th {\n",
       "        text-align: right;\n",
       "    }\n",
       "</style>\n",
       "<table border=\"1\" class=\"dataframe\">\n",
       "  <thead>\n",
       "    <tr style=\"text-align: right;\">\n",
       "      <th></th>\n",
       "      <th>ID</th>\n",
       "      <th>CRITICS_POINTS</th>\n",
       "      <th>USER_POINTS</th>\n",
       "      <th>SalesInMillions</th>\n",
       "      <th>CONSOLE_3ds</th>\n",
       "      <th>CONSOLE_dc</th>\n",
       "      <th>CONSOLE_ds</th>\n",
       "      <th>CONSOLE_gba</th>\n",
       "      <th>CONSOLE_gc</th>\n",
       "      <th>CONSOLE_pc</th>\n",
       "      <th>...</th>\n",
       "      <th>PUBLISHER_Zoo Digital Publishing</th>\n",
       "      <th>PUBLISHER_Zoo Games</th>\n",
       "      <th>PUBLISHER_Zushi Games</th>\n",
       "      <th>RATING_E</th>\n",
       "      <th>RATING_E10+</th>\n",
       "      <th>RATING_K-A</th>\n",
       "      <th>RATING_M</th>\n",
       "      <th>RATING_RP</th>\n",
       "      <th>RATING_T</th>\n",
       "      <th>mYear</th>\n",
       "    </tr>\n",
       "  </thead>\n",
       "  <tbody>\n",
       "    <tr>\n",
       "      <th>0</th>\n",
       "      <td>2860</td>\n",
       "      <td>2.833333</td>\n",
       "      <td>0.303704</td>\n",
       "      <td>1.779257</td>\n",
       "      <td>0</td>\n",
       "      <td>0</td>\n",
       "      <td>1</td>\n",
       "      <td>0</td>\n",
       "      <td>0</td>\n",
       "      <td>0</td>\n",
       "      <td>...</td>\n",
       "      <td>0</td>\n",
       "      <td>0</td>\n",
       "      <td>0</td>\n",
       "      <td>1</td>\n",
       "      <td>0</td>\n",
       "      <td>0</td>\n",
       "      <td>0</td>\n",
       "      <td>0</td>\n",
       "      <td>0</td>\n",
       "      <td>11</td>\n",
       "    </tr>\n",
       "    <tr>\n",
       "      <th>1</th>\n",
       "      <td>731</td>\n",
       "      <td>13.200000</td>\n",
       "      <td>1.640000</td>\n",
       "      <td>0.215050</td>\n",
       "      <td>0</td>\n",
       "      <td>0</td>\n",
       "      <td>0</td>\n",
       "      <td>0</td>\n",
       "      <td>0</td>\n",
       "      <td>0</td>\n",
       "      <td>...</td>\n",
       "      <td>0</td>\n",
       "      <td>0</td>\n",
       "      <td>0</td>\n",
       "      <td>0</td>\n",
       "      <td>1</td>\n",
       "      <td>0</td>\n",
       "      <td>0</td>\n",
       "      <td>0</td>\n",
       "      <td>0</td>\n",
       "      <td>15</td>\n",
       "    </tr>\n",
       "    <tr>\n",
       "      <th>2</th>\n",
       "      <td>495</td>\n",
       "      <td>4.562500</td>\n",
       "      <td>0.006410</td>\n",
       "      <td>0.534402</td>\n",
       "      <td>0</td>\n",
       "      <td>0</td>\n",
       "      <td>0</td>\n",
       "      <td>0</td>\n",
       "      <td>0</td>\n",
       "      <td>1</td>\n",
       "      <td>...</td>\n",
       "      <td>0</td>\n",
       "      <td>0</td>\n",
       "      <td>0</td>\n",
       "      <td>0</td>\n",
       "      <td>0</td>\n",
       "      <td>0</td>\n",
       "      <td>1</td>\n",
       "      <td>0</td>\n",
       "      <td>0</td>\n",
       "      <td>22</td>\n",
       "    </tr>\n",
       "    <tr>\n",
       "      <th>3</th>\n",
       "      <td>2641</td>\n",
       "      <td>4.181818</td>\n",
       "      <td>0.326923</td>\n",
       "      <td>1.383964</td>\n",
       "      <td>0</td>\n",
       "      <td>0</td>\n",
       "      <td>0</td>\n",
       "      <td>0</td>\n",
       "      <td>0</td>\n",
       "      <td>0</td>\n",
       "      <td>...</td>\n",
       "      <td>0</td>\n",
       "      <td>0</td>\n",
       "      <td>0</td>\n",
       "      <td>1</td>\n",
       "      <td>0</td>\n",
       "      <td>0</td>\n",
       "      <td>0</td>\n",
       "      <td>0</td>\n",
       "      <td>0</td>\n",
       "      <td>5</td>\n",
       "    </tr>\n",
       "    <tr>\n",
       "      <th>4</th>\n",
       "      <td>811</td>\n",
       "      <td>2.259259</td>\n",
       "      <td>0.032579</td>\n",
       "      <td>0.082671</td>\n",
       "      <td>0</td>\n",
       "      <td>0</td>\n",
       "      <td>0</td>\n",
       "      <td>0</td>\n",
       "      <td>0</td>\n",
       "      <td>0</td>\n",
       "      <td>...</td>\n",
       "      <td>0</td>\n",
       "      <td>0</td>\n",
       "      <td>0</td>\n",
       "      <td>0</td>\n",
       "      <td>0</td>\n",
       "      <td>0</td>\n",
       "      <td>1</td>\n",
       "      <td>0</td>\n",
       "      <td>0</td>\n",
       "      <td>16</td>\n",
       "    </tr>\n",
       "  </tbody>\n",
       "</table>\n",
       "<p>5 rows × 244 columns</p>\n",
       "</div>"
      ],
      "text/plain": [
       "     ID  CRITICS_POINTS  USER_POINTS  SalesInMillions  CONSOLE_3ds  \\\n",
       "0  2860        2.833333     0.303704         1.779257            0   \n",
       "1   731       13.200000     1.640000         0.215050            0   \n",
       "2   495        4.562500     0.006410         0.534402            0   \n",
       "3  2641        4.181818     0.326923         1.383964            0   \n",
       "4   811        2.259259     0.032579         0.082671            0   \n",
       "\n",
       "   CONSOLE_dc  CONSOLE_ds  CONSOLE_gba  CONSOLE_gc  CONSOLE_pc  ...  \\\n",
       "0           0           1            0           0           0  ...   \n",
       "1           0           0            0           0           0  ...   \n",
       "2           0           0            0           0           1  ...   \n",
       "3           0           0            0           0           0  ...   \n",
       "4           0           0            0           0           0  ...   \n",
       "\n",
       "   PUBLISHER_Zoo Digital Publishing  PUBLISHER_Zoo Games  \\\n",
       "0                                 0                    0   \n",
       "1                                 0                    0   \n",
       "2                                 0                    0   \n",
       "3                                 0                    0   \n",
       "4                                 0                    0   \n",
       "\n",
       "   PUBLISHER_Zushi Games  RATING_E  RATING_E10+  RATING_K-A  RATING_M  \\\n",
       "0                      0         1            0           0         0   \n",
       "1                      0         0            1           0         0   \n",
       "2                      0         0            0           0         1   \n",
       "3                      0         1            0           0         0   \n",
       "4                      0         0            0           0         1   \n",
       "\n",
       "   RATING_RP  RATING_T  mYear  \n",
       "0          0         0     11  \n",
       "1          0         0     15  \n",
       "2          0         0     22  \n",
       "3          0         0      5  \n",
       "4          0         0     16  \n",
       "\n",
       "[5 rows x 244 columns]"
      ]
     },
     "execution_count": 94,
     "metadata": {},
     "output_type": "execute_result"
    }
   ],
   "source": [
    "df.head()"
   ]
  },
  {
   "cell_type": "code",
   "execution_count": null,
   "metadata": {},
   "outputs": [],
   "source": []
  },
  {
   "cell_type": "code",
   "execution_count": null,
   "metadata": {},
   "outputs": [],
   "source": []
  },
  {
   "cell_type": "code",
   "execution_count": 95,
   "metadata": {},
   "outputs": [],
   "source": [
    "from sklearn.preprocessing import StandardScaler\n",
    "standardScaler = StandardScaler()\n",
    "columns_to_scale = ['CRITICS_POINTS', 'USER_POINTS','mYear']\n",
    "df[columns_to_scale] = standardScaler.fit_transform(df[columns_to_scale])"
   ]
  },
  {
   "cell_type": "code",
   "execution_count": 96,
   "metadata": {},
   "outputs": [
    {
     "data": {
      "text/html": [
       "<div>\n",
       "<style scoped>\n",
       "    .dataframe tbody tr th:only-of-type {\n",
       "        vertical-align: middle;\n",
       "    }\n",
       "\n",
       "    .dataframe tbody tr th {\n",
       "        vertical-align: top;\n",
       "    }\n",
       "\n",
       "    .dataframe thead th {\n",
       "        text-align: right;\n",
       "    }\n",
       "</style>\n",
       "<table border=\"1\" class=\"dataframe\">\n",
       "  <thead>\n",
       "    <tr style=\"text-align: right;\">\n",
       "      <th></th>\n",
       "      <th>ID</th>\n",
       "      <th>CRITICS_POINTS</th>\n",
       "      <th>USER_POINTS</th>\n",
       "      <th>SalesInMillions</th>\n",
       "      <th>CONSOLE_3ds</th>\n",
       "      <th>CONSOLE_dc</th>\n",
       "      <th>CONSOLE_ds</th>\n",
       "      <th>CONSOLE_gba</th>\n",
       "      <th>CONSOLE_gc</th>\n",
       "      <th>CONSOLE_pc</th>\n",
       "      <th>...</th>\n",
       "      <th>PUBLISHER_Zoo Digital Publishing</th>\n",
       "      <th>PUBLISHER_Zoo Games</th>\n",
       "      <th>PUBLISHER_Zushi Games</th>\n",
       "      <th>RATING_E</th>\n",
       "      <th>RATING_E10+</th>\n",
       "      <th>RATING_K-A</th>\n",
       "      <th>RATING_M</th>\n",
       "      <th>RATING_RP</th>\n",
       "      <th>RATING_T</th>\n",
       "      <th>mYear</th>\n",
       "    </tr>\n",
       "  </thead>\n",
       "  <tbody>\n",
       "    <tr>\n",
       "      <th>0</th>\n",
       "      <td>2860</td>\n",
       "      <td>-0.304806</td>\n",
       "      <td>-0.224205</td>\n",
       "      <td>1.779257</td>\n",
       "      <td>0</td>\n",
       "      <td>0</td>\n",
       "      <td>1</td>\n",
       "      <td>0</td>\n",
       "      <td>0</td>\n",
       "      <td>0</td>\n",
       "      <td>...</td>\n",
       "      <td>0</td>\n",
       "      <td>0</td>\n",
       "      <td>0</td>\n",
       "      <td>1</td>\n",
       "      <td>0</td>\n",
       "      <td>0</td>\n",
       "      <td>0</td>\n",
       "      <td>0</td>\n",
       "      <td>0</td>\n",
       "      <td>-0.230108</td>\n",
       "    </tr>\n",
       "    <tr>\n",
       "      <th>1</th>\n",
       "      <td>731</td>\n",
       "      <td>2.995280</td>\n",
       "      <td>2.709640</td>\n",
       "      <td>0.215050</td>\n",
       "      <td>0</td>\n",
       "      <td>0</td>\n",
       "      <td>0</td>\n",
       "      <td>0</td>\n",
       "      <td>0</td>\n",
       "      <td>0</td>\n",
       "      <td>...</td>\n",
       "      <td>0</td>\n",
       "      <td>0</td>\n",
       "      <td>0</td>\n",
       "      <td>0</td>\n",
       "      <td>1</td>\n",
       "      <td>0</td>\n",
       "      <td>0</td>\n",
       "      <td>0</td>\n",
       "      <td>0</td>\n",
       "      <td>0.699338</td>\n",
       "    </tr>\n",
       "    <tr>\n",
       "      <th>2</th>\n",
       "      <td>495</td>\n",
       "      <td>0.245650</td>\n",
       "      <td>-0.876915</td>\n",
       "      <td>0.534402</td>\n",
       "      <td>0</td>\n",
       "      <td>0</td>\n",
       "      <td>0</td>\n",
       "      <td>0</td>\n",
       "      <td>0</td>\n",
       "      <td>1</td>\n",
       "      <td>...</td>\n",
       "      <td>0</td>\n",
       "      <td>0</td>\n",
       "      <td>0</td>\n",
       "      <td>0</td>\n",
       "      <td>0</td>\n",
       "      <td>0</td>\n",
       "      <td>1</td>\n",
       "      <td>0</td>\n",
       "      <td>0</td>\n",
       "      <td>2.325869</td>\n",
       "    </tr>\n",
       "    <tr>\n",
       "      <th>3</th>\n",
       "      <td>2641</td>\n",
       "      <td>0.124465</td>\n",
       "      <td>-0.173227</td>\n",
       "      <td>1.383964</td>\n",
       "      <td>0</td>\n",
       "      <td>0</td>\n",
       "      <td>0</td>\n",
       "      <td>0</td>\n",
       "      <td>0</td>\n",
       "      <td>0</td>\n",
       "      <td>...</td>\n",
       "      <td>0</td>\n",
       "      <td>0</td>\n",
       "      <td>0</td>\n",
       "      <td>1</td>\n",
       "      <td>0</td>\n",
       "      <td>0</td>\n",
       "      <td>0</td>\n",
       "      <td>0</td>\n",
       "      <td>0</td>\n",
       "      <td>-1.624278</td>\n",
       "    </tr>\n",
       "    <tr>\n",
       "      <th>4</th>\n",
       "      <td>811</td>\n",
       "      <td>-0.487555</td>\n",
       "      <td>-0.819461</td>\n",
       "      <td>0.082671</td>\n",
       "      <td>0</td>\n",
       "      <td>0</td>\n",
       "      <td>0</td>\n",
       "      <td>0</td>\n",
       "      <td>0</td>\n",
       "      <td>0</td>\n",
       "      <td>...</td>\n",
       "      <td>0</td>\n",
       "      <td>0</td>\n",
       "      <td>0</td>\n",
       "      <td>0</td>\n",
       "      <td>0</td>\n",
       "      <td>0</td>\n",
       "      <td>1</td>\n",
       "      <td>0</td>\n",
       "      <td>0</td>\n",
       "      <td>0.931700</td>\n",
       "    </tr>\n",
       "  </tbody>\n",
       "</table>\n",
       "<p>5 rows × 244 columns</p>\n",
       "</div>"
      ],
      "text/plain": [
       "     ID  CRITICS_POINTS  USER_POINTS  SalesInMillions  CONSOLE_3ds  \\\n",
       "0  2860       -0.304806    -0.224205         1.779257            0   \n",
       "1   731        2.995280     2.709640         0.215050            0   \n",
       "2   495        0.245650    -0.876915         0.534402            0   \n",
       "3  2641        0.124465    -0.173227         1.383964            0   \n",
       "4   811       -0.487555    -0.819461         0.082671            0   \n",
       "\n",
       "   CONSOLE_dc  CONSOLE_ds  CONSOLE_gba  CONSOLE_gc  CONSOLE_pc  ...  \\\n",
       "0           0           1            0           0           0  ...   \n",
       "1           0           0            0           0           0  ...   \n",
       "2           0           0            0           0           1  ...   \n",
       "3           0           0            0           0           0  ...   \n",
       "4           0           0            0           0           0  ...   \n",
       "\n",
       "   PUBLISHER_Zoo Digital Publishing  PUBLISHER_Zoo Games  \\\n",
       "0                                 0                    0   \n",
       "1                                 0                    0   \n",
       "2                                 0                    0   \n",
       "3                                 0                    0   \n",
       "4                                 0                    0   \n",
       "\n",
       "   PUBLISHER_Zushi Games  RATING_E  RATING_E10+  RATING_K-A  RATING_M  \\\n",
       "0                      0         1            0           0         0   \n",
       "1                      0         0            1           0         0   \n",
       "2                      0         0            0           0         1   \n",
       "3                      0         1            0           0         0   \n",
       "4                      0         0            0           0         1   \n",
       "\n",
       "   RATING_RP  RATING_T     mYear  \n",
       "0          0         0 -0.230108  \n",
       "1          0         0  0.699338  \n",
       "2          0         0  2.325869  \n",
       "3          0         0 -1.624278  \n",
       "4          0         0  0.931700  \n",
       "\n",
       "[5 rows x 244 columns]"
      ]
     },
     "execution_count": 96,
     "metadata": {},
     "output_type": "execute_result"
    }
   ],
   "source": [
    "df.head()"
   ]
  },
  {
   "cell_type": "code",
   "execution_count": null,
   "metadata": {},
   "outputs": [],
   "source": []
  },
  {
   "cell_type": "code",
   "execution_count": 97,
   "metadata": {},
   "outputs": [],
   "source": [
    "X = df.drop('SalesInMillions',axis = 1)\n",
    "Y = df['SalesInMillions']"
   ]
  },
  {
   "cell_type": "code",
   "execution_count": 98,
   "metadata": {},
   "outputs": [],
   "source": [
    "from sklearn.model_selection import train_test_split\n",
    "X_train,X_test,Y_train,Y_test = train_test_split(X,Y,test_size=0.4)"
   ]
  },
  {
   "cell_type": "code",
   "execution_count": null,
   "metadata": {},
   "outputs": [],
   "source": []
  },
  {
   "cell_type": "code",
   "execution_count": 101,
   "metadata": {},
   "outputs": [
    {
     "data": {
      "text/plain": [
       "LinearRegression()"
      ]
     },
     "execution_count": 101,
     "metadata": {},
     "output_type": "execute_result"
    }
   ],
   "source": [
    "from sklearn.linear_model import LinearRegression as LR\n",
    "model = LR()\n",
    "\n",
    "model.fit(X_train,Y_train)"
   ]
  },
  {
   "cell_type": "code",
   "execution_count": 111,
   "metadata": {},
   "outputs": [],
   "source": [
    "from sklearn.model_selection import cross_val_score\n",
    "y_pred = model.predict(X_test)\n",
    "\n",
    "# score = cross_val_score(y_pred,Y_test)\n",
    "# print(score)"
   ]
  },
  {
   "cell_type": "code",
   "execution_count": 112,
   "metadata": {},
   "outputs": [],
   "source": [
    "import numpy as np"
   ]
  },
  {
   "cell_type": "code",
   "execution_count": 113,
   "metadata": {},
   "outputs": [],
   "source": [
    "from sklearn import metrics"
   ]
  },
  {
   "cell_type": "code",
   "execution_count": 114,
   "metadata": {},
   "outputs": [
    {
     "name": "stdout",
     "output_type": "stream",
     "text": [
      "MAE: 5754279.822290364\n",
      "MSE: 1.5505507840430194e+16\n",
      "RMSE: 124521114.03464954\n"
     ]
    }
   ],
   "source": [
    "print('MAE:', metrics.mean_absolute_error(Y_test, y_pred))\n",
    "print('MSE:', metrics.mean_squared_error(Y_test, y_pred))\n",
    "print('RMSE:', np.sqrt(metrics.mean_squared_error(Y_test, y_pred)))"
   ]
  },
  {
   "cell_type": "code",
   "execution_count": null,
   "metadata": {},
   "outputs": [],
   "source": []
  }
 ],
 "metadata": {
  "kernelspec": {
   "display_name": "Python 3",
   "language": "python",
   "name": "python3"
  },
  "language_info": {
   "codemirror_mode": {
    "name": "ipython",
    "version": 3
   },
   "file_extension": ".py",
   "mimetype": "text/x-python",
   "name": "python",
   "nbconvert_exporter": "python",
   "pygments_lexer": "ipython3",
   "version": "3.7.3"
  }
 },
 "nbformat": 4,
 "nbformat_minor": 2
}
